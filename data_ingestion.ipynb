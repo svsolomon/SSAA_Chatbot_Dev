{
 "cells": [
  {
   "cell_type": "code",
   "execution_count": 9,
   "id": "2035f6b5",
   "metadata": {},
   "outputs": [
    {
     "data": {
      "text/plain": [
       "True"
      ]
     },
     "execution_count": 9,
     "metadata": {},
     "output_type": "execute_result"
    }
   ],
   "source": [
    "import os\n",
    "from azure.storage.blob import BlobServiceClient, ContentSettings\n",
    "from dotenv import load_dotenv\n",
    "load_dotenv()"
   ]
  },
  {
   "cell_type": "code",
   "execution_count": 13,
   "id": "a554c5ee",
   "metadata": {},
   "outputs": [
    {
     "name": "stdout",
     "output_type": "stream",
     "text": [
      "✅ Uploaded to: Documents/Final_Member Webinar_Storage Agreements 2023.pdf\n",
      "✅ Uploaded to: Documents/AU-Privacy-Collection-Statement-220822-.docx\n",
      "✅ Uploaded to: Documents/SSAA-Ski-Summit-Summary.pdf\n",
      "✅ Uploaded to: Documents/SSAA Arrears Management Guide 2024 (2).pdf\n",
      "✅ Uploaded to: Documents/Urbis-Storage-Index-December-2020-8p.pdf\n",
      "✅ Uploaded to: Documents/SSAA_Batteries in Self Storage 2024.pdf\n",
      "✅ Uploaded to: Documents/Final Draft_Managed Storage Specific Terms (1).docx\n",
      "✅ Uploaded to: Documents/State of the Industry_Consumer Insights.pdf\n",
      "✅ Uploaded to: Documents/Form-13-Privacy-NZPolicy-Template-V1-November-2020-2.docx\n",
      "✅ Uploaded to: Documents/Urbis-Storage-Index-August-2020.pdf\n",
      "✅ Uploaded to: Documents/Remote Management in Self Storage.pdf\n",
      "✅ Uploaded to: Documents/Trends Transforming Australasia_Simon Kuestenmacher.pdf\n",
      "✅ Uploaded to: Documents/SSAA_GC24_SoTI Launch Presentation.pdf\n",
      "✅ Uploaded to: Documents/Member Update_Storage Agreements 2023_F.pdf\n",
      "✅ Uploaded to: Documents/NZ-Customer-Storage-Agreement-Guidelines.v1.04-January-2023.pdf\n",
      "✅ Uploaded to: Documents/Urbis-Self-Storage-Sep-2017.pdf\n",
      "✅ Uploaded to: Documents/Urbis-Self-Storage-JUL-2018_LR.pdf\n",
      "✅ Uploaded to: Documents/Final Draft_Facility Rules Template.docx\n",
      "✅ Uploaded to: Documents/Urbis-Storage-Index.December-2016.pdf\n",
      "✅ Uploaded to: Documents/Urbis-Storage-Index-December-2021 (3).pdf\n",
      "✅ Uploaded to: Documents/SSAA 2023 Australian Standard Self Storage Licence Agreement_Long Format.docx\n",
      "✅ Uploaded to: Documents/Urbis-Storage-Index-June-2016.pdf\n",
      "✅ Uploaded to: Documents/Final Draft_Managed Storage Specific Terms.docx\n",
      "✅ Uploaded to: Documents/Final Draft_Shipping Containers Specific Terms (1).docx\n",
      "✅ Uploaded to: Documents/Final Draft_Vehicle Storage Specific Terms.docx\n",
      "✅ Uploaded to: Documents/Appendix-4-Urbis-Self-Storage-Index-Dec-2018.pdf\n",
      "✅ Uploaded to: Documents/Urbis-USI-Report-October-2015_final.pdf\n",
      "✅ Uploaded to: Documents/AU-Privacy-Policy-220822-.docx\n",
      "✅ Uploaded to: Documents/Urbis-Storage-Index.pdf\n",
      "✅ Uploaded to: Documents/Arrears Management Guide_NZ.pdf\n",
      "✅ Uploaded to: Documents/Urbis-Self-Storage-March-2018.pdf\n",
      "✅ Uploaded to: Documents/StorerCheck-Information-Form_July-2022-1.pdf\n",
      "✅ Uploaded to: Documents/SSAA Ski Summit Highlights 2024.pdf\n",
      "✅ Uploaded to: Documents/Self Storage Legal Landscape – New Zealand_Darryl King.pdf\n",
      "✅ Uploaded to: Documents/Embracing AI and Innovation.pdf\n",
      "✅ Uploaded to: Documents/Urbis-Self-Storage-Index-June-2021-Release_Final.pdf\n",
      "✅ Uploaded to: Documents/SSAA State of the Industry 2024 (1).pdf\n",
      "✅ Uploaded to: Documents/Elevate your Self Storage Operations.pdf\n",
      "✅ Uploaded to: Documents/SSAA CSA Guidelines_2324 (3).pdf\n",
      "✅ Uploaded to: Documents/SSAA-2022-New-Zealand-Standard-Self-Storage-Licence-Agreement_Long-Format-2.docx\n",
      "✅ Uploaded to: Documents/SSAA Standard Agreement 2023 r17_10_2023.pdf\n",
      "✅ Uploaded to: Documents/Self Storage Legal Landscape - Australia_Ritika Sardar and Ethan Holden.pdf\n",
      "✅ Uploaded to: Documents/SSAA Cyber Security Guidelines 2023.pdf\n",
      "✅ Uploaded to: Documents/Urbis-USI-Report-September-2015-quarter.pdf\n"
     ]
    }
   ],
   "source": [
    "# 🔧 SET THESE\n",
    "connection_string = os.getenv(\"AZURE_CONNECTION_STRING\")\n",
    "container_name = os.getenv(\"AZURE_CONTAINER_NAME\")\n",
    "local_folder_path = \"/Users/sharathsolomon/Desktop/SSAA Chatbot/Development/Documents\" \n",
    "target_folder = \"Documents\"  # Azure Blob virtual folder\n",
    "\n",
    "def upload_to_documents_folder(connection_string, container_name, folder_path, target_folder):\n",
    "    blob_service_client = BlobServiceClient.from_connection_string(connection_string)\n",
    "    container_client = blob_service_client.get_container_client(container_name)\n",
    "\n",
    "    # Create the container if it doesn't exist\n",
    "    try:\n",
    "        container_client.create_container()\n",
    "    except Exception:\n",
    "        pass  # Ignore if it already exists\n",
    "\n",
    "    for root, dirs, files in os.walk(folder_path):\n",
    "        for filename in files:\n",
    "            file_path = os.path.join(root, filename)\n",
    "            relative_path = os.path.relpath(file_path, folder_path)\n",
    "            blob_path = os.path.join(target_folder, relative_path).replace(\"\\\\\", \"/\")  # Simulate folder\n",
    "\n",
    "            # Optional: Set correct content type\n",
    "            content_type = \"application/octet-stream\"\n",
    "            if filename.endswith(\".pdf\"):\n",
    "                content_type = \"application/pdf\"\n",
    "            elif filename.endswith(\".docx\"):\n",
    "                content_type = \"application/vnd.openxmlformats-officedocument.wordprocessingml.document\"\n",
    "            elif filename.endswith(\".txt\"):\n",
    "                content_type = \"text/plain\"\n",
    "\n",
    "            with open(file_path, \"rb\") as data:\n",
    "                container_client.upload_blob(\n",
    "                    name=blob_path,\n",
    "                    data=data,\n",
    "                    overwrite=True,\n",
    "                    content_settings=ContentSettings(content_type=content_type)\n",
    "                )\n",
    "                print(f\"✅ Uploaded to: {blob_path}\")\n",
    "\n",
    "# ✅ CALL IT\n",
    "upload_to_documents_folder(connection_string, container_name, local_folder_path, target_folder)\n"
   ]
  },
  {
   "cell_type": "code",
   "execution_count": 12,
   "id": "8de6efe4",
   "metadata": {},
   "outputs": [
    {
     "name": "stdout",
     "output_type": "stream",
     "text": [
      "🗑️ Deleted: Documents/AU-Privacy-Collection-Statement-220822-.docx\n",
      "🗑️ Deleted: Documents/Final_Member Webinar_Storage Agreements 2023.pdf\n",
      "🗑️ Deleted: Documents/SSAA Arrears Management Guide 2024 (2).pdf\n",
      "🗑️ Deleted: Documents/SSAA-Ski-Summit-Summary.pdf\n",
      "✅ All blobs deleted.\n"
     ]
    }
   ],
   "source": [
    "def delete_all_blobs_in_container(connection_string, container_name):\n",
    "    blob_service_client = BlobServiceClient.from_connection_string(connection_string)\n",
    "    container_client = blob_service_client.get_container_client(container_name)\n",
    "\n",
    "    blobs = container_client.list_blobs()\n",
    "    for blob in blobs:\n",
    "        container_client.delete_blob(blob.name)\n",
    "        print(f\"🗑️ Deleted: {blob.name}\")\n",
    "\n",
    "    print(\"✅ All blobs deleted.\")\n",
    "\n",
    "# ✅ CALL IT\n",
    "connection_string = os.getenv(\"AZURE_CONNECTION_STRING\")\n",
    "container_name = os.getenv(\"AZURE_CONTAINER_NAME\")\n",
    "delete_all_blobs_in_container(connection_string, container_name)"
   ]
  }
 ],
 "metadata": {
  "kernelspec": {
   "display_name": "venv",
   "language": "python",
   "name": "python3"
  },
  "language_info": {
   "name": "python",
   "version": "3.11.7"
  }
 },
 "nbformat": 4,
 "nbformat_minor": 5
}
