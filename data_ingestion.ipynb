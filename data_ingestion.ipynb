{
 "cells": [
  {
   "cell_type": "code",
   "execution_count": 1,
   "id": "2035f6b5",
   "metadata": {},
   "outputs": [
    {
     "data": {
      "text/plain": [
       "True"
      ]
     },
     "execution_count": 1,
     "metadata": {},
     "output_type": "execute_result"
    }
   ],
   "source": [
    "import os\n",
    "from azure.storage.blob import BlobServiceClient, ContentSettings\n",
    "from dotenv import load_dotenv\n",
    "load_dotenv()"
   ]
  },
  {
   "cell_type": "code",
   "execution_count": 2,
   "id": "56b188d2",
   "metadata": {},
   "outputs": [],
   "source": [
    "# 🔧 SET THESE\n",
    "connection_string = os.getenv(\"AZURE_CONNECTION_STRING\")\n",
    "container_name = os.getenv(\"AZURE_CONTAINER_NAME\")\n",
    "local_folder_path = \"/Users/sharathsolomon/Desktop/SSAA Chatbot/Development/models\" \n",
    "target_folder = \"Models\"  # Azure Blob virtual folder\n"
   ]
  },
  {
   "cell_type": "code",
   "execution_count": 17,
   "id": "a554c5ee",
   "metadata": {},
   "outputs": [],
   "source": [
    "def upload_to_documents_folder(connection_string, container_name, folder_path, target_folder):\n",
    "    blob_service_client = BlobServiceClient.from_connection_string(connection_string)\n",
    "    container_client = blob_service_client.get_container_client(container_name)\n",
    "\n",
    "    # Create the container if it doesn't exist\n",
    "    try:\n",
    "        container_client.create_container()\n",
    "    except Exception:\n",
    "        pass  # Ignore if it already exists\n",
    "\n",
    "    for root, dirs, files in os.walk(folder_path):\n",
    "        for filename in files:\n",
    "            file_path = os.path.join(root, filename)\n",
    "            relative_path = os.path.relpath(file_path, folder_path)\n",
    "            blob_path = os.path.join(target_folder, relative_path).replace(\"\\\\\", \"/\")  # Simulate folder\n",
    "\n",
    "            # Optional: Set correct content type\n",
    "            content_type = \"application/octet-stream\"\n",
    "            if filename.endswith(\".pdf\"):\n",
    "                content_type = \"application/pdf\"\n",
    "            elif filename.endswith(\".docx\"):\n",
    "                content_type = \"application/vnd.openxmlformats-officedocument.wordprocessingml.document\"\n",
    "            elif filename.endswith(\".txt\"):\n",
    "                content_type = \"text/plain\"\n",
    "\n",
    "            try:\n",
    "                with open(file_path, \"rb\") as data:\n",
    "                    container_client.upload_blob(\n",
    "                        name=blob_path,\n",
    "                        data=data,\n",
    "                        overwrite=True,\n",
    "                        content_settings=ContentSettings(content_type=content_type),\n",
    "                        timeout=300\n",
    "                    )\n",
    "                print(f\"✅ Uploaded: {blob_path}\")\n",
    "            except Exception as e:\n",
    "                print(f\"❌ Failed to upload {blob_path}: {e}\")\n",
    "                continue\n",
    "\n",
    "# ✅ CALL IT\n",
    "# upload_to_documents_folder(connection_string, container_name, local_folder_path, target_folder)\n"
   ]
  },
  {
   "cell_type": "code",
   "execution_count": 22,
   "id": "a1e6508e",
   "metadata": {},
   "outputs": [
    {
     "name": "stdout",
     "output_type": "stream",
     "text": [
      "✅ Uploaded: Models/my_miniLM_model/model.safetensors\n",
      "✅ Uploaded: Models/my_miniLM_model/tokenizer_config.json\n",
      "✅ Uploaded: Models/my_miniLM_model/special_tokens_map.json\n",
      "✅ Uploaded: Models/my_miniLM_model/config.json\n",
      "✅ Uploaded: Models/my_miniLM_model/config_sentence_transformers.json\n",
      "✅ Uploaded: Models/my_miniLM_model/tokenizer.json\n",
      "✅ Uploaded: Models/my_miniLM_model/README.md\n",
      "✅ Uploaded: Models/my_miniLM_model/sentence_bert_config.json\n",
      "✅ Uploaded: Models/my_miniLM_model/vocab.txt\n",
      "✅ Uploaded: Models/my_miniLM_model/modules.json\n",
      "✅ Uploaded: Models/my_miniLM_model/1_Pooling/config.json\n"
     ]
    }
   ],
   "source": [
    "upload_to_documents_folder(connection_string, container_name, local_folder_path, target_folder)"
   ]
  },
  {
   "cell_type": "code",
   "execution_count": 4,
   "id": "e6c35d7d",
   "metadata": {},
   "outputs": [
    {
     "name": "stdout",
     "output_type": "stream",
     "text": [
      "File '/Users/sharathsolomon/Desktop/SSAA Chatbot/Development/metadata.json' uploaded to Blob Storage as 'metadata.json'.\n"
     ]
    }
   ],
   "source": [
    "file_path = \"/Users/sharathsolomon/Desktop/SSAA Chatbot/Development/metadata.json\"         # Path to the file you want to upload\n",
    "blob_name = \"metadata.json\"   \n",
    "\n",
    "# Upload file to Blob Storage\n",
    "def upload_file_to_blob(file_path, blob_name,connection_string,container_name):\n",
    "    blob_service_client = BlobServiceClient.from_connection_string(connection_string)\n",
    "    container_client = blob_service_client.get_container_client(container_name)\n",
    "    try:\n",
    "        # Create a BlobClient for the target blob in the container\n",
    "        blob_client = container_client.get_blob_client(blob_name)\n",
    "\n",
    "        # Upload the file\n",
    "        with open(file_path, \"rb\") as data:\n",
    "            blob_client.upload_blob(data, overwrite=True)  # Set overwrite=True to replace existing blob if it exists\n",
    "\n",
    "        print(f\"File '{file_path}' uploaded to Blob Storage as '{blob_name}'.\")\n",
    "\n",
    "    except Exception as e:\n",
    "        print(f\"Error uploading file: {e}\")\n",
    "\n",
    "# Upload the file\n",
    "upload_file_to_blob(file_path, blob_name,connection_string, container_name)"
   ]
  },
  {
   "cell_type": "code",
   "execution_count": 16,
   "id": "8de6efe4",
   "metadata": {},
   "outputs": [
    {
     "name": "stdout",
     "output_type": "stream",
     "text": [
      "✅ All blobs deleted.\n"
     ]
    }
   ],
   "source": [
    "def delete_all_blobs_in_container(connection_string, container_name):\n",
    "    blob_service_client = BlobServiceClient.from_connection_string(connection_string)\n",
    "    container_client = blob_service_client.get_container_client(container_name)\n",
    "\n",
    "    blobs = container_client.list_blobs()\n",
    "    for blob in blobs:\n",
    "        container_client.delete_blob(blob.name)\n",
    "        print(f\"🗑️ Deleted: {blob.name}\")\n",
    "\n",
    "    print(\"✅ All blobs deleted.\")\n",
    "\n",
    "# ✅ CALL IT\n",
    "connection_string = os.getenv(\"AZURE_CONNECTION_STRING\")\n",
    "container_name = os.getenv(\"AZURE_CONTAINER_NAME\")\n",
    "delete_all_blobs_in_container(connection_string, container_name)"
   ]
  },
  {
   "cell_type": "code",
   "execution_count": 4,
   "id": "a2b65580",
   "metadata": {},
   "outputs": [
    {
     "name": "stdout",
     "output_type": "stream",
     "text": [
      "Downloaded 'Models/my_miniLM_model/1_Pooling/config.json' to './models/my_miniLM_model/1_Pooling/config.json'.\n",
      "Downloaded 'Models/my_miniLM_model/README.md' to './models/my_miniLM_model/README.md'.\n",
      "Downloaded 'Models/my_miniLM_model/config.json' to './models/my_miniLM_model/config.json'.\n",
      "Downloaded 'Models/my_miniLM_model/config_sentence_transformers.json' to './models/my_miniLM_model/config_sentence_transformers.json'.\n",
      "Downloaded 'Models/my_miniLM_model/model.safetensors' to './models/my_miniLM_model/model.safetensors'.\n",
      "Downloaded 'Models/my_miniLM_model/modules.json' to './models/my_miniLM_model/modules.json'.\n",
      "Downloaded 'Models/my_miniLM_model/sentence_bert_config.json' to './models/my_miniLM_model/sentence_bert_config.json'.\n",
      "Downloaded 'Models/my_miniLM_model/special_tokens_map.json' to './models/my_miniLM_model/special_tokens_map.json'.\n",
      "Downloaded 'Models/my_miniLM_model/tokenizer.json' to './models/my_miniLM_model/tokenizer.json'.\n",
      "Downloaded 'Models/my_miniLM_model/tokenizer_config.json' to './models/my_miniLM_model/tokenizer_config.json'.\n",
      "Downloaded 'Models/my_miniLM_model/vocab.txt' to './models/my_miniLM_model/vocab.txt'.\n",
      "Downloaded 'indexer' to './vector_index.faiss'.\n"
     ]
    }
   ],
   "source": [
    "model_folder = \"Models\"                       # Folder name where the model is stored\n",
    "\n",
    "# Local path to save the files\n",
    "local_model_folder = \"./models\"  # Local directory where the model files will be saved\n",
    "\n",
    "# Initialize BlobServiceClient\n",
    "blob_service_client = BlobServiceClient.from_connection_string(connection_string)\n",
    "\n",
    "# Get the container client\n",
    "container_client = blob_service_client.get_container_client(container_name)\n",
    "\n",
    "# Function to download a file from Azure Blob Storage\n",
    "def download_blob_from_storage(blob_name, download_path):\n",
    "    try:\n",
    "        # Get the BlobClient\n",
    "        blob_client = container_client.get_blob_client(blob_name)\n",
    "\n",
    "        # Download the blob to a local file\n",
    "        with open(download_path, \"wb\") as download_file:\n",
    "            download_file.write(blob_client.download_blob().readall())\n",
    "\n",
    "        print(f\"Downloaded '{blob_name}' to '{download_path}'.\")\n",
    "\n",
    "    except Exception as e:\n",
    "        print(f\"Error downloading file: {e}\")\n",
    "\n",
    "# Function to list and download all files in a folder\n",
    "def download_all_files_in_folder():\n",
    "    try:\n",
    "        # List all blobs in the container\n",
    "        blobs = container_client.list_blobs(name_starts_with=model_folder)\n",
    "\n",
    "        for blob in blobs:\n",
    "            blob_name = blob.name\n",
    "            # Create the local directory structure if it doesn't exist\n",
    "            local_file_path = os.path.join(local_model_folder, os.path.relpath(blob_name, model_folder))\n",
    "            os.makedirs(os.path.dirname(local_file_path), exist_ok=True)\n",
    "\n",
    "            # Download each blob\n",
    "            download_blob_from_storage(blob_name, local_file_path)\n",
    "\n",
    "    except Exception as e:\n",
    "        print(f\"Error downloading files: {e}\")\n",
    "\n",
    "# Create a local directory to store the model if it doesn't exist\n",
    "os.makedirs(local_model_folder, exist_ok=True)\n",
    "\n",
    "# Download all files in the 'Models' folder\n",
    "download_all_files_in_folder()\n",
    "\n",
    "blob_name = 'indexer'\n",
    "download_path = './vector_index.faiss'\n",
    "download_blob_from_storage(blob_name,download_path)"
   ]
  }
 ],
 "metadata": {
  "kernelspec": {
   "display_name": "venv",
   "language": "python",
   "name": "python3"
  },
  "language_info": {
   "codemirror_mode": {
    "name": "ipython",
    "version": 3
   },
   "file_extension": ".py",
   "mimetype": "text/x-python",
   "name": "python",
   "nbconvert_exporter": "python",
   "pygments_lexer": "ipython3",
   "version": "3.11.7"
  }
 },
 "nbformat": 4,
 "nbformat_minor": 5
}
