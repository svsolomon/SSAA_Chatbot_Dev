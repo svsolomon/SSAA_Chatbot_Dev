{
 "cells": [
  {
   "cell_type": "code",
   "execution_count": 1,
   "id": "e54805aa",
   "metadata": {},
   "outputs": [
    {
     "name": "stderr",
     "output_type": "stream",
     "text": [
      "/Users/sharathsolomon/Desktop/SSAA Chatbot/Development/venv/lib/python3.11/site-packages/tqdm/auto.py:21: TqdmWarning: IProgress not found. Please update jupyter and ipywidgets. See https://ipywidgets.readthedocs.io/en/stable/user_install.html\n",
      "  from .autonotebook import tqdm as notebook_tqdm\n"
     ]
    }
   ],
   "source": [
    "import os\n",
    "from docx import Document\n",
    "from sentence_transformers import SentenceTransformer\n",
    "import faiss\n",
    "import numpy as np\n",
    "import fitz\n",
    "import json\n",
    "import hashlib\n",
    "import shutil"
   ]
  },
  {
   "cell_type": "code",
   "execution_count": null,
   "id": "ae2a4cbf",
   "metadata": {},
   "outputs": [],
   "source": [
    "# Load embedding model\n",
    "# model = SentenceTransformer('all-MiniLM-L6-v2')"
   ]
  },
  {
   "cell_type": "code",
   "execution_count": null,
   "id": "16174941",
   "metadata": {},
   "outputs": [],
   "source": [
    "# model.save('models/my_miniLM_model')"
   ]
  },
  {
   "cell_type": "code",
   "execution_count": 2,
   "id": "8c254d5e",
   "metadata": {},
   "outputs": [],
   "source": [
    "model = SentenceTransformer('models/my_miniLM_model')"
   ]
  },
  {
   "cell_type": "markdown",
   "id": "03f9cabf",
   "metadata": {},
   "source": [
    "# Data Preprocessing"
   ]
  },
  {
   "cell_type": "code",
   "execution_count": 3,
   "id": "a7fb63b2",
   "metadata": {},
   "outputs": [
    {
     "data": {
      "text/plain": [
       "['0685i00000GMzwSAAT.pdf',\n",
       " '068Mo00000OA0dhIAD.pdf',\n",
       " '0685i00000COnTYAA1.pdf',\n",
       " '0685i00000CPMiuAAH.pdf',\n",
       " '0685i00000JTytPAAT.pdf',\n",
       " '068Mo00000TExCQIA1.pptx',\n",
       " '0685i00000CRB13AAH.docx',\n",
       " 'Final_Member Webinar_Storage Agreements 2023.pdf',\n",
       " '0685i00000CPMvQAAX.pdf',\n",
       " '0685i00000CQGYpAAP.docx',\n",
       " 'SSAA-Ski-Summit-Summary.pdf',\n",
       " '0685i00000COmvjAAD.pdf',\n",
       " '0685i00000CPZoMAAX.pdf',\n",
       " '0685i00000CQfvpAAD.pdf',\n",
       " '0685i00000CQ2jRAAT.pdf',\n",
       " '068J3000002BYLxIAO.docx',\n",
       " '0685i00000MY8fWAAT.pdf',\n",
       " '068Mo00000Oxq9iIAB.pdf',\n",
       " '068Mo00000OxXXpIAN.pdf',\n",
       " '0685i00000COnSkAAL.pdf',\n",
       " '0685i00000CQ39TAAT.pdf',\n",
       " 'SSAA Arrears Management Guide 2024 (2).pdf',\n",
       " '0685i00000CQKadAAH.docx',\n",
       " '0685i00000CQFYEAA5.pdf',\n",
       " '0685i00000Hcg2QAAR.pdf',\n",
       " '0685i00000HchNzAAJ.pdf',\n",
       " 'Urbis-Storage-Index-December-2020-8p.pdf',\n",
       " '068J3000003eZdcIAE.pdf',\n",
       " '068J3000002BzyhIAC.docx',\n",
       " '0685i00000CPMZqAAP.pptx',\n",
       " '0685i00000CQ2KDAA1.docx',\n",
       " '0685i00000CQ2i2AAD.pdf',\n",
       " '0685i00000HdnQDAAZ.pdf',\n",
       " '068Mo00000PmdK7IAJ.pdf',\n",
       " '0685i00000CQRHhAAP.docx',\n",
       " '0685i00000COxabAAD.pdf',\n",
       " 'SSAA_Batteries in Self Storage 2024.pdf',\n",
       " '0685i00000DPudcAAD.docx',\n",
       " '0685i00000GKLleAAH.docx',\n",
       " '0685i00000HcmSeAAJ.pdf',\n",
       " '068J3000002YsnDIAS.pdf',\n",
       " '0685i00000GKS1KAAX.pdf',\n",
       " 'Final Draft_Managed Storage Specific Terms (1).docx',\n",
       " '0685i00000HcfARAAZ.pdf',\n",
       " '068Mo00000P7SAvIAN.pdf',\n",
       " '0685i00000COxVJAA1.pdf',\n",
       " '0685i00000ED4iOAAT.docx',\n",
       " '0685i00000CQ1uoAAD.pdf',\n",
       " '068Mo00000OxyDdIAJ.pdf',\n",
       " '0685i00000CQh66AAD.pdf',\n",
       " '0685i00000CPZr1AAH.pdf',\n",
       " '068Mo00000OxwnLIAR.pdf',\n",
       " '0685i00000CPRcQAAX.pdf',\n",
       " 'Urbis-Storage-Index-August-2020.pdf',\n",
       " '0685i00000CQ38zAAD.pdf',\n",
       " '0685i00000CQenXAAT.pdf',\n",
       " '0685i00000CQfc8AAD.docx',\n",
       " '0685i00000COxCeAAL.pdf',\n",
       " '0685i00000CRAnWAAX.docx',\n",
       " '0685i00000CQRmpAAH.pdf',\n",
       " '0685i00000GMGjqAAH.pdf',\n",
       " '0685i00000CPMteAAH.pdf',\n",
       " 'Remote Management in Self Storage.pdf',\n",
       " '0685i00000CQh83AAD.pdf',\n",
       " '0685i00000ED4fUAAT.docx',\n",
       " '0685i00000COxL8AAL.pdf',\n",
       " '0685i00000ECY1TAAX.pdf',\n",
       " '0685i00000KElzoAAD.pdf',\n",
       " '0685i00000F8pCRAAZ.pdf',\n",
       " '0685i00000HcfWrAAJ.pdf',\n",
       " 'SSAA_GC24_SoTI Launch Presentation.pdf',\n",
       " '0685i00000CQRYwAAP.pdf',\n",
       " '0685i00000COxKkAAL.pdf',\n",
       " '068Mo00000QYwM1IAL.pdf',\n",
       " '0685i00000CPRAzAAP.pdf',\n",
       " '0685i00000CPLJkAAP.docx',\n",
       " '0685i00000CP1q4AAD.pdf',\n",
       " '0685i00000COn9iAAD.pdf',\n",
       " '0685i00000CPMkoAAH.pdf',\n",
       " '0685i00000CP2YIAA1.pdf',\n",
       " '0685i00000COxKiAAL.pdf',\n",
       " '0685i00000CQ38pAAD.pdf',\n",
       " '0685i00000CP2Y0AAL.pdf',\n",
       " '0685i00000COsfeAAD.pdf',\n",
       " '0685i00000CPReTAAX.pdf',\n",
       " '0685i00000ED4ssAAD.docx',\n",
       " '0685i00000COxJkAAL.pdf',\n",
       " '0685i00000COsggAAD.pdf',\n",
       " '0685i00000IDw3WAAT.pdf',\n",
       " '0685i00000CQvljAAD.pdf',\n",
       " '068Mo00000UBrhLIAT.pdf',\n",
       " '0685i00000CPMQQAA5.pdf',\n",
       " '0685i00000KElzyAAD.docx',\n",
       " 'Urbis-Self-Storage-Sep-2017.pdf',\n",
       " '0685i00000CPQkVAAX.pdf',\n",
       " '0685i00000CPMPsAAP.pptx',\n",
       " 'Urbis-Self-Storage-JUL-2018_LR.pdf',\n",
       " '068Mo00000TEddWIAT.pdf',\n",
       " '0685i00000CP2YvAAL.pdf',\n",
       " '0685i00000CPZfgAAH.pdf',\n",
       " '0685i00000CQg5oAAD.pdf',\n",
       " '0685i00000MzL8UAAV.pdf',\n",
       " '0685i00000ED4fTAAT.docx',\n",
       " '0685i00000IxZ10AAF.pdf',\n",
       " 'Urbis-Storage-Index.December-2016.pdf',\n",
       " '0685i00000HcfqNAAR.pdf',\n",
       " '0685i00000CPROaAAP.pdf',\n",
       " '0685i00000COxBlAAL.pdf',\n",
       " '0685i00000CPMkFAAX.pdf',\n",
       " '0685i00000Mxdb2AAB.pdf',\n",
       " '0685i00000IGBQlAAP.pdf',\n",
       " '0685i00000GKLm3AAH.docx',\n",
       " '0685i00000CQvWqAAL.pdf',\n",
       " '0685i00000IFL2sAAH.pdf',\n",
       " '0685i00000COmUAAA1.pdf',\n",
       " '0685i00000B0RusAAF.pdf',\n",
       " '068J3000003b0LAIAY.pdf',\n",
       " '0685i00000IGBASAA5.pdf',\n",
       " '0685i00000CQg4uAAD.docx',\n",
       " '0685i00000CPMkpAAH.pdf',\n",
       " '068Mo00000PCVjSIAX.pdf',\n",
       " '068Mo00000OxaphIAB.pdf',\n",
       " '0685i00000CQfbeAAD.docx',\n",
       " '0685i00000CQ3tWAAT.pdf',\n",
       " '0155i000001AUZXAA4.pdf',\n",
       " '0685i00000CQ38uAAD.pdf',\n",
       " '0685i00000HbXlyAAF.pdf',\n",
       " '0685i00000IGBnAAAX.pdf',\n",
       " '0685i00000CPMitAAH.pdf',\n",
       " '0685i00000ED4nmAAD.docx',\n",
       " '0685i00000CPMhzAAH.pdf',\n",
       " '0685i00000CPRe9AAH.pdf',\n",
       " '0685i00000CQ3t3AAD.pdf',\n",
       " '068J3000002YsqMIAS.pdf',\n",
       " '068Mo00000Oxz9hIAB.pdf',\n",
       " '068Mo00000PMfRIIA1.pdf',\n",
       " '0685i00000CQg5JAAT.pdf',\n",
       " '0685i00000COxWQAA1.pdf',\n",
       " '0685i00000CPRH5AAP.pdf',\n",
       " '0685i00000CPMDuAAP.docx',\n",
       " '0685i00000CPMDtAAP.pdf',\n",
       " '0685i00000COnRMAA1.pdf',\n",
       " 'Final Draft_Shipping Containers Specific Terms (1).docx',\n",
       " '0685i00000IDvv8AAD.pdf',\n",
       " '0685i00000CPQnnAAH.pdf',\n",
       " '068J3000003poTXIAY.pdf',\n",
       " '0685i00000KElzjAAD.pdf',\n",
       " '0685i00000HeZhSAAV.docx',\n",
       " '0685i00000CPMi0AAH.pdf',\n",
       " '0685i00000CPZ5rAAH.pdf',\n",
       " '0685i00000CPQlXAAX.pdf',\n",
       " '068J3000002BYNoIAO.docx',\n",
       " '068Mo00000OxwYRIAZ.pdf',\n",
       " '0685i00000CQRmRAAX.docx',\n",
       " '068Mo00000QivYQIAZ.pdf',\n",
       " '0685i00000CPQoRAAX.pdf',\n",
       " '0685i00000IGFpzAAH.docx',\n",
       " '0685i00000COsdzAAD.pdf',\n",
       " '0685i00000CQh8lAAD.pdf',\n",
       " '068Mo00000NlUDbIAN.pdf',\n",
       " '0685i00000CQvTiAAL.pdf',\n",
       " '0685i00000CQh82AAD.pdf',\n",
       " '0685i00000ED4gRAAT.docx',\n",
       " '0685i00000CQg4LAAT.docx',\n",
       " '068Mo00000QcyhDIAR.docx',\n",
       " '0685i00000CPME8AAP.pdf',\n",
       " '0685i00000HceRuAAJ.pdf',\n",
       " '0685i00000CQh6aAAD.pdf',\n",
       " '0685i00000En5ASAAZ.pdf',\n",
       " '0685i00000CP2aOAAT.pdf',\n",
       " '0685i00000HcenPAAR.pdf',\n",
       " '0685i00000CQg5nAAD.pdf',\n",
       " '0685i00000CQfHEAA1.pdf',\n",
       " '0685i00000B1IZWAA3.pdf',\n",
       " '0685i00000IDvclAAD.pdf',\n",
       " '0685i00000CPMtfAAH.pdf',\n",
       " '068J3000004Q406IAC.pdf',\n",
       " '0685i00000HcfujAAB.pdf',\n",
       " '0685i00000COsfdAAD.pdf',\n",
       " '0685i00000CP2Y1AAL.pdf',\n",
       " '0685i00000IGBnEAAX.pdf',\n",
       " '0685i00000CQg2AAAT.pdf',\n",
       " '0685i00000HcevMAAR.pdf',\n",
       " '0685i00000IGBn9AAH.pdf']"
      ]
     },
     "execution_count": 3,
     "metadata": {},
     "output_type": "execute_result"
    }
   ],
   "source": [
    "\n",
    "path = os.path.join(os.getcwd(),'SSAA Documents/Valid Documents')\n",
    "files = os.listdir(path)\n",
    "files"
   ]
  },
  {
   "cell_type": "code",
   "execution_count": 4,
   "id": "34d897ce",
   "metadata": {},
   "outputs": [],
   "source": [
    "# Step 1: Load .docx and extract paragraphs\n",
    "def load_docx_text(path):\n",
    "    doc = Document(path)\n",
    "    paragraphs = [p.text.strip() for p in doc.paragraphs if p.text.strip()]\n",
    "    return paragraphs"
   ]
  },
  {
   "cell_type": "code",
   "execution_count": null,
   "id": "e80fc93b",
   "metadata": {},
   "outputs": [],
   "source": [
    "# # Step 2: Chunk paragraphs into simulated pages\n",
    "# def chunk_into_pages(paragraphs, max_words=800):\n",
    "#     pages = []\n",
    "#     current_page = []\n",
    "#     word_count = 0\n",
    "\n",
    "#     for para in paragraphs:\n",
    "#         words = para.split()\n",
    "#         if word_count + len(words) > max_words:\n",
    "#             pages.append(' '.join(current_page))\n",
    "#             current_page = []\n",
    "#             word_count = 0\n",
    "#         current_page.append(para)\n",
    "#         word_count += len(words)\n",
    "    \n",
    "#     if current_page:\n",
    "#         pages.append(' '.join(current_page))\n",
    "#     return pages"
   ]
  },
  {
   "cell_type": "code",
   "execution_count": 19,
   "id": "dcc88ed6",
   "metadata": {},
   "outputs": [],
   "source": [
    "def chunk_into_pages(paragraphs, max_length=800):\n",
    "    pages = []\n",
    "    current = \"\"\n",
    "    for para in paragraphs:\n",
    "        if len(current) + len(para) < max_length:\n",
    "            current += para + \" \"\n",
    "        else:\n",
    "            pages.append(current.strip())\n",
    "            current = para + \" \"\n",
    "    if current:\n",
    "        pages.append(current.strip())\n",
    "    return pages"
   ]
  },
  {
   "cell_type": "code",
   "execution_count": 20,
   "id": "e0950089",
   "metadata": {},
   "outputs": [],
   "source": [
    "def extract_docx(file):\n",
    "    path = os.path.join(os.getcwd(),f'SSAA_Documents/Valid Documents/{file}')\n",
    "    paragraphs = load_docx_text(path)\n",
    "    pages = chunk_into_pages(paragraphs)\n",
    "    return pages    "
   ]
  },
  {
   "cell_type": "code",
   "execution_count": null,
   "id": "db779a0e",
   "metadata": {},
   "outputs": [],
   "source": [
    "# def extract_pdf(file):\n",
    "#     path = os.path.join(os.getcwd(),f'Documents/{file}')\n",
    "#     doc = fitz.open(path)\n",
    "#     pages = []\n",
    "#     for page in doc:\n",
    "#         text = page.get_text().strip()\n",
    "#         if text:\n",
    "#             pages.append(text)\n",
    "    \n",
    "#     doc.close()\n",
    "#     return pages"
   ]
  },
  {
   "cell_type": "code",
   "execution_count": 21,
   "id": "eca2c4ec",
   "metadata": {},
   "outputs": [],
   "source": [
    "def extract_pdf(file):\n",
    "    path = os.path.join(os.getcwd(), f'SSAA_Documents/Valid Documents/{file}')\n",
    "    doc = fitz.open(path)\n",
    "    pages = [page.get_text().strip() for page in doc if page.get_text().strip()]\n",
    "    doc.close()\n",
    "    return pages"
   ]
  },
  {
   "cell_type": "code",
   "execution_count": 8,
   "id": "8465f6ae",
   "metadata": {},
   "outputs": [],
   "source": [
    "def hash_document_text(text):\n",
    "    return hashlib.sha256(text.encode('utf-8')).hexdigest()"
   ]
  },
  {
   "cell_type": "code",
   "execution_count": 9,
   "id": "8e755aa7",
   "metadata": {},
   "outputs": [],
   "source": [
    "def extract_full_text(file_path):\n",
    "    ext = file_path.split('.')[-1].lower()\n",
    "    file_name = os.path.basename(file_path)\n",
    "    if ext == 'pdf':\n",
    "        return \"\\n\".join(extract_pdf(file_name))\n",
    "    elif ext == 'docx':\n",
    "        return \"\\n\".join(extract_docx(file_name))\n",
    "    else:\n",
    "        return None"
   ]
  },
  {
   "cell_type": "code",
   "execution_count": 22,
   "id": "5ae33de4",
   "metadata": {},
   "outputs": [],
   "source": [
    "def remove_duplicate_documents(doc_folder='SSAA_Documents/Valid Documents'):\n",
    "    seen_hashes = set()\n",
    "    doc_path = os.path.join(os.getcwd(), doc_folder)\n",
    "    files = os.listdir(doc_path)\n",
    "\n",
    "    # Optional: move duplicates to separate folder\n",
    "    duplicates_folder = os.path.join(os.getcwd(), \"Duplicate_Documents\")\n",
    "    os.makedirs(duplicates_folder, exist_ok=True)\n",
    "\n",
    "    for file in files:\n",
    "        full_path = os.path.join(doc_path, file)\n",
    "\n",
    "        if not file.endswith(('.pdf', '.docx')):\n",
    "            continue\n",
    "\n",
    "        text = extract_full_text(full_path)\n",
    "        if not text:\n",
    "            continue\n",
    "\n",
    "        doc_hash = hash_document_text(text.strip())\n",
    "\n",
    "        if doc_hash in seen_hashes:\n",
    "            # Duplicate found: move to duplicates folder\n",
    "            shutil.move(full_path, os.path.join(duplicates_folder, file))\n",
    "            print(f\"❌ Removed duplicate: {file}\")\n",
    "        else:\n",
    "            seen_hashes.add(doc_hash)\n",
    "\n",
    "    print(\"✅ Duplicate removal complete.\")"
   ]
  },
  {
   "cell_type": "code",
   "execution_count": 23,
   "id": "e3d66ba7",
   "metadata": {},
   "outputs": [
    {
     "name": "stdout",
     "output_type": "stream",
     "text": [
      "✅ Duplicate removal complete.\n"
     ]
    }
   ],
   "source": [
    "remove_duplicate_documents()"
   ]
  },
  {
   "cell_type": "code",
   "execution_count": 24,
   "id": "d400d8b5",
   "metadata": {},
   "outputs": [
    {
     "data": {
      "text/plain": [
       "184"
      ]
     },
     "execution_count": 24,
     "metadata": {},
     "output_type": "execute_result"
    }
   ],
   "source": [
    "files = os.listdir('SSAA_Documents/Valid Documents')\n",
    "len(files)"
   ]
  },
  {
   "cell_type": "code",
   "execution_count": 25,
   "id": "85d77664",
   "metadata": {},
   "outputs": [],
   "source": [
    "def preprocessing():\n",
    "    all_pages = []\n",
    "    metadata = []\n",
    "    seen_hashes = set()\n",
    "\n",
    "    path = os.path.join(os.getcwd(), 'SSAA_Documents/Valid Documents')\n",
    "    files = os.listdir(path)\n",
    "\n",
    "    for file in files:\n",
    "        if file.split('.')[-1] == 'docx':\n",
    "            pages = extract_docx(file)\n",
    "        elif file.split('.')[-1] == 'pdf':\n",
    "            pages = extract_pdf(file)\n",
    "        else:\n",
    "            continue\n",
    "\n",
    "        for i, page in enumerate(pages):\n",
    "            content_hash = hash_document_text(page.strip())\n",
    "\n",
    "            if content_hash in seen_hashes:\n",
    "                continue  # Skip duplicate content\n",
    "\n",
    "            seen_hashes.add(content_hash)\n",
    "            all_pages.append(page)\n",
    "            metadata.append({\n",
    "                \"document\": file,\n",
    "                \"page_number\": i + 1,\n",
    "                \"text\": page\n",
    "            })\n",
    "\n",
    "    return all_pages, metadata"
   ]
  },
  {
   "cell_type": "code",
   "execution_count": null,
   "id": "02f7e715",
   "metadata": {},
   "outputs": [],
   "source": [
    "# def preprocessing():\n",
    "#     all_pages = []\n",
    "#     metadata = []\n",
    "#     path = os.path.join(os.getcwd(),'Documents')\n",
    "#     files = os.listdir(path)\n",
    "\n",
    "#     for file in files:\n",
    "#         if file.split('.')[-1] in ['docx']:\n",
    "#             pages = extract_docx(file)\n",
    "            \n",
    "#         elif file.split('.')[-1] in ['pdf']:\n",
    "#             pages = extract_pdf(file)\n",
    "#         else:\n",
    "#             continue\n",
    "\n",
    "#         for i, page in enumerate(pages):\n",
    "#                 all_pages.append(page)\n",
    "#                 metadata.append({\n",
    "#                     \"document\": file,\n",
    "#                     \"page_number\": i + 1,\n",
    "#                     \"text\": page\n",
    "#                 })\n",
    "#     return (all_pages,metadata)"
   ]
  },
  {
   "cell_type": "code",
   "execution_count": 26,
   "id": "566ee004",
   "metadata": {},
   "outputs": [],
   "source": [
    "all_pages, metadata = preprocessing()"
   ]
  },
  {
   "cell_type": "code",
   "execution_count": 27,
   "id": "c6448b01",
   "metadata": {},
   "outputs": [
    {
     "data": {
      "text/plain": [
       "2513"
      ]
     },
     "execution_count": 27,
     "metadata": {},
     "output_type": "execute_result"
    }
   ],
   "source": [
    "len(metadata)"
   ]
  },
  {
   "cell_type": "markdown",
   "id": "09e21b2e",
   "metadata": {},
   "source": [
    "# Data Indexer"
   ]
  },
  {
   "cell_type": "code",
   "execution_count": 28,
   "id": "43b1313a",
   "metadata": {},
   "outputs": [],
   "source": [
    "def vectorize_pages(pages,model):\n",
    "    embeddings = model.encode(pages, convert_to_numpy=True)\n",
    "    return embeddings"
   ]
  },
  {
   "cell_type": "code",
   "execution_count": 29,
   "id": "3dc44ae9",
   "metadata": {},
   "outputs": [],
   "source": [
    "def indexer_faiss():\n",
    "    embeddings = vectorize_pages(all_pages,model)\n",
    "    dim = embeddings.shape[1]\n",
    "    index = faiss.IndexFlatL2(dim)\n",
    "    index.add(embeddings)\n",
    "\n",
    "\n",
    "    # 1. First time: after indexing\n",
    "    faiss.write_index(index, \"vector_index.faiss\")\n",
    "    with open(\"metadata.json\", \"w\", encoding=\"utf-8\") as f:\n",
    "        json.dump(metadata, f)\n"
   ]
  },
  {
   "cell_type": "code",
   "execution_count": 30,
   "id": "f313e1a5",
   "metadata": {},
   "outputs": [],
   "source": [
    "indexer_faiss()"
   ]
  },
  {
   "cell_type": "code",
   "execution_count": 31,
   "id": "ef067b03",
   "metadata": {},
   "outputs": [],
   "source": [
    "def search_index(query, index, metadata_list, model, top_k=3):\n",
    "    query_vec = model.encode([query])\n",
    "    D, I = index.search(query_vec, top_k)\n",
    "    results = []\n",
    "    for idx in I[0]:\n",
    "        metadata = metadata_list[idx]\n",
    "        results.append({\n",
    "            \"document\": metadata[\"document\"],\n",
    "            \"page_number\": metadata[\"page_number\"],\n",
    "            \"text\": metadata[\"text\"][:500],  # preview\n",
    "            \"score\": D[0][list(I[0]).index(idx)]\n",
    "        })\n",
    "    return results"
   ]
  },
  {
   "cell_type": "code",
   "execution_count": 32,
   "id": "f940c7d3",
   "metadata": {},
   "outputs": [
    {
     "name": "stdout",
     "output_type": "stream",
     "text": [
      "Query : What is the purpose of an Alternate Contact Person (ACP) and what rights do they have?\n",
      "\n",
      "📄 Document: 068Mo00000Oxz9hIAB.pdf | Page: 10 | Score: 0.63\n",
      "📝 Content Preview:\n",
      "Access to a space by others – \n",
      "alternate contact person\n",
      "• ACP is an agent whose decisions in relation to the \n",
      "agreement are binding on the storer.\n",
      "• Can be contacted in case the storer cannot be \n",
      "reached. Can discuss any matter relating to the \n",
      "agreement with them.\n",
      "ACP can access the Space to remove the goods when \n",
      "required under the agreement (for eg after \n",
      "termination), if the storer is absent, unwilling or unable \n",
      "to remove the goods....\n",
      "--------------------------------------------------------------------------------\n",
      "\n",
      "📄 Document: 0685i00000CQRmRAAX.docx | Page: 10 | Score: 0.77\n",
      "📝 Content Preview:\n",
      "We may disclose, sell or transfer to third parties any non-personal, aggregated information that we collect from you and our other customers. alternate contact person It is your responsibility to ensure that you have obtained your Alternate Contact Person’s (ACP) consent to disclose their information to us, and that we may use their personal information as we would personal information collected about you. You will be in breach of your agreement with us if you have not obtained your ACP’s consen...\n",
      "--------------------------------------------------------------------------------\n",
      "\n",
      "📄 Document: 0685i00000CQGYpAAP.docx | Page: 8 | Score: 0.86\n",
      "📝 Content Preview:\n",
      "Please note that Australian laws may not apply to some of these entities in those countries. Alternate Contact Person You make the following authorisation regarding your Alternate Contact Person: As you have provided us with personal information identifying your nominated Alternate Contact Person (ACP), you must ensure that you have the right to disclose information about your ACP including their personal information. You must take reasonable steps to ensure your ACP is aware that: you have made...\n",
      "--------------------------------------------------------------------------------\n"
     ]
    }
   ],
   "source": [
    "\n",
    "# Loading Indexer and metadata\n",
    "index = faiss.read_index(\"vector_index.faiss\")\n",
    "with open(\"metadata.json\", \"r\") as f:\n",
    "    metadata_list = json.load(f)\n",
    "\n",
    "# Example query\n",
    "query = \"What is the purpose of an Alternate Contact Person (ACP) and what rights do they have?\"\n",
    "results = search_index(query, index, metadata_list, model)\n",
    "\n",
    "print(f'Query : {query}')\n",
    "# Display results\n",
    "for res in results:\n",
    "    print(f\"\\n📄 Document: {res['document']} | Page: {res['page_number']} | Score: {res['score']:.2f}\")\n",
    "    print(f\"📝 Content Preview:\\n{res['text']}...\")\n",
    "    print('-' * 80)"
   ]
  },
  {
   "cell_type": "code",
   "execution_count": 66,
   "id": "4fa61e65",
   "metadata": {},
   "outputs": [
    {
     "data": {
      "text/plain": [
       "[{'document': '0685i00000GKKY5AAP.docx',\n",
       "  'page_number': 4,\n",
       "  'text': 'Alternative Contact Person or ACP means the alternative contact person that You specify in the Schedule. Associate means the ACP, Your agent and/or a third party: (a) who enters the Space (or the Facility) at Your request, invitation or direction; or (b) whose entry to the Space (or the Facility) was facilitated by any of Your acts or omissions, including, but not limited to, the provision of a key, access card, codes or Bluetooth-enabled device; or (c) who gains unauthorised entry to the Space ',\n",
       "  'score': np.float32(0.5995209)},\n",
       " {'document': '068Mo00000Oxz9hIAB.pdf',\n",
       "  'page_number': 10,\n",
       "  'text': 'Access to a space by others – \\nalternate contact person\\n• ACP is an agent whose decisions in relation to the \\nagreement are binding on the storer.\\n• Can be contacted in case the storer cannot be \\nreached. Can discuss any matter relating to the \\nagreement with them.\\nACP can access the Space to remove the goods when \\nrequired under the agreement (for eg after \\ntermination), if the storer is absent, unwilling or unable \\nto remove the goods.',\n",
       "  'score': np.float32(0.6295149)},\n",
       " {'document': '068Mo00000SotCfIAJ.pdf',\n",
       "  'page_number': 8,\n",
       "  'text': '18. Alternative Contact Person (ACP)\\nYou: \\na. warrant that You have the ACP’s consent to disclose the ACP’s Personal Information to Us and that the ACP is authorised to act as Your agent whose\\ndecisions in relation to this Agreement will be legally binding on You; and \\nb. without limiting clause 18(a), authorise Us to, at Our discretion:\\n1. discuss any matter relating to this Agreement with the ACP, including confirming Your latest known contact details; and\\n2. in the event of You being absent, ',\n",
       "  'score': np.float32(0.7533895)}]"
      ]
     },
     "execution_count": 66,
     "metadata": {},
     "output_type": "execute_result"
    }
   ],
   "source": [
    "results"
   ]
  },
  {
   "cell_type": "code",
   "execution_count": 5,
   "id": "c78bbb08",
   "metadata": {},
   "outputs": [],
   "source": [
    "import openai\n",
    "from dotenv import load_dotenv\n",
    "load_dotenv()\n",
    "# Set your OpenAI API key\n",
    "api_key = os.getenv(\"OPENAI_API_KEY\")\n",
    "\n",
    "client = openai.OpenAI(api_key=api_key)  # Replace with your actual key\n",
    "\n",
    "def get_answer_from_openai(query: str, content: str, model: str = \"gpt-3.5-turbo-0125\") -> str:\n",
    "    \"\"\"\n",
    "    Uses OpenAI's ChatCompletion API to answer a question based on the provided context.\n",
    "\n",
    "    Args:\n",
    "        query (str): The user's question.\n",
    "        content (str): The context/content from which the answer should be extracted.\n",
    "        model (str): OpenAI model to use (default is gpt-3.5-turbo-0125).\n",
    "\n",
    "    Returns:\n",
    "        str: The generated answer from OpenAI.\n",
    "    \"\"\"\n",
    "    try:\n",
    "        response = client.chat.completions.create(\n",
    "            model=model,\n",
    "            messages=[\n",
    "                {\"role\": \"system\", \"content\": \"You are a helpful assistant that answers questions based on the given context.\"},\n",
    "                {\"role\": \"user\", \"content\": f\"Context: {content}\\n\\nQuestion: {query}\"}\n",
    "            ],\n",
    "            temperature=0.2,\n",
    "            max_tokens=300\n",
    "        )\n",
    "        return response.choices[0].message.content.strip()\n",
    "\n",
    "    except Exception as e:\n",
    "        return f\"Error occurred: {e}\""
   ]
  },
  {
   "cell_type": "code",
   "execution_count": 7,
   "id": "5132cdc2",
   "metadata": {},
   "outputs": [],
   "source": [
    "def generate_answer(query):\n",
    "    results = search_index(query, index, metadata_list, model)\n",
    "    context=''\n",
    "    for res in results:\n",
    "        context += res['text']\n",
    "    \n",
    "    answer = get_answer_from_openai(query,context)\n",
    "    return answer"
   ]
  },
  {
   "cell_type": "code",
   "execution_count": 8,
   "id": "60d941b7",
   "metadata": {},
   "outputs": [
    {
     "data": {
      "text/plain": [
       "'When a Storer passes away, the Facility can only release the stored goods to the person who has been granted probate by the court. If the Storer dies without a will, it is referred to as \"intestate.\" In such cases, the next of kin will need to provide proof of being the executor or administrator of the deceased\\'s estate in order to access the stored items. The executor or administrator should sign the necessary authorization forms to gain access to the storage unit and its contents.'"
      ]
     },
     "execution_count": 8,
     "metadata": {},
     "output_type": "execute_result"
    }
   ],
   "source": [
    "query = \"deceased storer\"\n",
    "generate_answer(query)"
   ]
  },
  {
   "cell_type": "code",
   "execution_count": null,
   "id": "b5e7a071",
   "metadata": {},
   "outputs": [
    {
     "name": "stdout",
     "output_type": "stream",
     "text": [
      "Query : deceased storer\n",
      "\n",
      "📄 Document: NZ-Customer-Storage-Agreement-Guidelines.v1.04-January-2023.pdf | Page: 47 | Score: 0.91\n",
      "📝 Content Preview:\n",
      "SSAA CUSTOMER STORAGE AGREEMENT GUIDELINES (CSA) \n",
      "© Self Storage Association of Australasia 2023 \n",
      "47 \n",
      "KJW - 449872/6 - 194743.3 \n",
      " \n",
      " \n",
      " \n",
      "19. \n",
      "DECEASED STORER \n",
      " \n",
      " \n",
      "When a Storer dies, a Facility is not able to ‘release’ goods to any person other than the person to \n",
      "whom probate is granted. A probate document is an official court issued document. It will include a \n",
      "court stamp. \n",
      " \n",
      "19.1 Storer dies without a will \n",
      "Where a person dies without a will it is called “intestate”. The next of kin will need ...\n",
      "--------------------------------------------------------------------------------\n",
      "\n",
      "📄 Document: Self Storage Legal Landscape - Australia_Ritika Sardar and Ethan Holden.pdf | Page: 12 | Score: 0.95\n",
      "📝 Content Preview:\n",
      "Access to a space by others – relatives/executor \n",
      "when storer deceased (illustration cont.)\n",
      "• On a storer’s death, the lock should not be opened \n",
      "except for the executor or administrator of a \n",
      "deceased’s estate. \n",
      "• A grant of probate proves a will’s validity and \n",
      "authorises the executor to administer an estate.\n",
      "• The executor should sign the lock break \n",
      "authorisation form....\n",
      "--------------------------------------------------------------------------------\n",
      "\n",
      "📄 Document: Self Storage Legal Landscape - Australia_Ritika Sardar and Ethan Holden.pdf | Page: 11 | Score: 1.03\n",
      "📝 Content Preview:\n",
      "Access to a space by others – relatives/executor \n",
      "when storer deceased (illustration)\n",
      "• Agreement signed by deceased’s daughter, who was \n",
      "also the ACP. Goods belonged to the deceased. \n",
      "• Daughter continued to make payments for a while \n",
      "after father’s passing, ceased payments. Facility was \n",
      "unable to contact daughter.\n",
      "• Deceased’s estate’s solicitor unaware of the unit, \n",
      "requested that the executor (son) be allowed to \n",
      "inspect the unit, pay outstanding amounts and \n",
      "remove contents.\n",
      "• Facility enq...\n",
      "--------------------------------------------------------------------------------\n",
      "Answer from OpenAI model :\n",
      "When a Storer passes away, the Facility is only allowed to release the stored goods to the person who has been granted probate by the court. If the Storer dies without a will, known as dying intestate, the next of kin will need to have the proper legal documentation to access the storage unit. The executor or administrator of the deceased's estate must provide a grant of probate to prove the validity of the will and authorize them to handle the deceased's estate, including accessing the storage unit. It is important to follow these guidelines to ensure that the process is handled correctly and legally.\n"
     ]
    }
   ],
   "source": [
    "# # Example query\n",
    "# query = \"deceased storer\"\n",
    "# results = search_index(query, index, metadata_list, model)\n",
    "# context=''\n",
    "# for res in results:\n",
    "#     context += res['text']\n",
    "\n",
    "# print(f'Query : {query}')\n",
    "# # Display results\n",
    "# for res in results:\n",
    "#     print(f\"\\n📄 Document: {res['document']} | Page: {res['page_number']} | Score: {res['score']:.2f}\")\n",
    "#     print(f\"📝 Content Preview:\\n{res['text']}...\")\n",
    "#     print('-' * 80)\n",
    "\n",
    "# answer = get_answer_from_openai(query,context)\n",
    "# print(f'Answer from OpenAI model :\\n{answer}')"
   ]
  }
 ],
 "metadata": {
  "kernelspec": {
   "display_name": "venv",
   "language": "python",
   "name": "python3"
  },
  "language_info": {
   "codemirror_mode": {
    "name": "ipython",
    "version": 3
   },
   "file_extension": ".py",
   "mimetype": "text/x-python",
   "name": "python",
   "nbconvert_exporter": "python",
   "pygments_lexer": "ipython3",
   "version": "3.11.7"
  }
 },
 "nbformat": 4,
 "nbformat_minor": 5
}
