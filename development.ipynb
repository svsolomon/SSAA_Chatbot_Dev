{
 "cells": [
  {
   "cell_type": "code",
   "execution_count": 56,
   "id": "e54805aa",
   "metadata": {},
   "outputs": [],
   "source": [
    "import os\n",
    "from docx import Document\n",
    "from sentence_transformers import SentenceTransformer\n",
    "import faiss\n",
    "import numpy as np\n",
    "import fitz\n",
    "import json"
   ]
  },
  {
   "cell_type": "code",
   "execution_count": 57,
   "id": "ae2a4cbf",
   "metadata": {},
   "outputs": [],
   "source": [
    "# Load embedding model\n",
    "model = SentenceTransformer('all-MiniLM-L6-v2')"
   ]
  },
  {
   "cell_type": "markdown",
   "id": "03f9cabf",
   "metadata": {},
   "source": [
    "# Data Preprocessing"
   ]
  },
  {
   "cell_type": "code",
   "execution_count": 58,
   "id": "a7fb63b2",
   "metadata": {},
   "outputs": [
    {
     "data": {
      "text/plain": [
       "['Final_Member Webinar_Storage Agreements 2023.pdf',\n",
       " 'AU-Privacy-Collection-Statement-220822-.docx',\n",
       " 'SSAA-Ski-Summit-Summary.pdf',\n",
       " 'SSAA Arrears Management Guide 2024 (2).pdf',\n",
       " 'Urbis-Storage-Index-December-2020-8p.pdf',\n",
       " 'SSAA_Batteries in Self Storage 2024.pdf',\n",
       " 'Final Draft_Managed Storage Specific Terms (1).docx',\n",
       " 'State of the Industry_Consumer Insights.pdf',\n",
       " 'Form-13-Privacy-NZPolicy-Template-V1-November-2020-2.docx',\n",
       " 'Urbis-Storage-Index-August-2020.pdf',\n",
       " 'Remote Management in Self Storage.pdf',\n",
       " 'Trends Transforming Australasia_Simon Kuestenmacher.pdf',\n",
       " 'SSAA_GC24_SoTI Launch Presentation.pdf',\n",
       " 'Member Update_Storage Agreements 2023_F.pdf',\n",
       " 'NZ-Customer-Storage-Agreement-Guidelines.v1.04-January-2023.pdf',\n",
       " 'Urbis-Self-Storage-Sep-2017.pdf',\n",
       " 'Urbis-Self-Storage-JUL-2018_LR.pdf',\n",
       " 'Final Draft_Facility Rules Template.docx',\n",
       " 'Urbis-Storage-Index.December-2016.pdf',\n",
       " 'Urbis-Storage-Index-December-2021 (3).pdf',\n",
       " 'SSAA 2023 Australian Standard Self Storage Licence Agreement_Long Format.docx',\n",
       " 'Urbis-Storage-Index-June-2016.pdf',\n",
       " 'Final Draft_Managed Storage Specific Terms.docx',\n",
       " 'Final Draft_Shipping Containers Specific Terms (1).docx',\n",
       " 'Final Draft_Vehicle Storage Specific Terms.docx',\n",
       " 'Appendix-4-Urbis-Self-Storage-Index-Dec-2018.pdf',\n",
       " 'Urbis-USI-Report-October-2015_final.pdf',\n",
       " 'AU-Privacy-Policy-220822-.docx',\n",
       " 'Urbis-Storage-Index.pdf',\n",
       " 'Arrears Management Guide_NZ.pdf',\n",
       " 'Urbis-Self-Storage-March-2018.pdf',\n",
       " 'StorerCheck-Information-Form_July-2022-1.pdf',\n",
       " 'SSAA Ski Summit Highlights 2024.pdf',\n",
       " 'Self Storage Legal Landscape – New Zealand_Darryl King.pdf',\n",
       " 'Embracing AI and Innovation.pdf',\n",
       " 'Urbis-Self-Storage-Index-June-2021-Release_Final.pdf',\n",
       " 'SSAA State of the Industry 2024 (1).pdf',\n",
       " 'Elevate your Self Storage Operations.pdf',\n",
       " 'SSAA CSA Guidelines_2324 (3).pdf',\n",
       " 'SSAA-2022-New-Zealand-Standard-Self-Storage-Licence-Agreement_Long-Format-2.docx',\n",
       " 'SSAA Standard Agreement 2023 r17_10_2023.pdf',\n",
       " 'Self Storage Legal Landscape - Australia_Ritika Sardar and Ethan Holden.pdf',\n",
       " 'SSAA Cyber Security Guidelines 2023.pdf',\n",
       " 'Urbis-USI-Report-September-2015-quarter.pdf']"
      ]
     },
     "execution_count": 58,
     "metadata": {},
     "output_type": "execute_result"
    }
   ],
   "source": [
    "\n",
    "path = os.path.join(os.getcwd(),'Documents')\n",
    "files = os.listdir(path)\n",
    "files"
   ]
  },
  {
   "cell_type": "code",
   "execution_count": 59,
   "id": "34d897ce",
   "metadata": {},
   "outputs": [],
   "source": [
    "# Step 1: Load .docx and extract paragraphs\n",
    "def load_docx_text(path):\n",
    "    doc = Document(path)\n",
    "    paragraphs = [p.text.strip() for p in doc.paragraphs if p.text.strip()]\n",
    "    return paragraphs"
   ]
  },
  {
   "cell_type": "code",
   "execution_count": 60,
   "id": "e80fc93b",
   "metadata": {},
   "outputs": [],
   "source": [
    "# Step 2: Chunk paragraphs into simulated pages\n",
    "def chunk_into_pages(paragraphs, max_words=800):\n",
    "    pages = []\n",
    "    current_page = []\n",
    "    word_count = 0\n",
    "\n",
    "    for para in paragraphs:\n",
    "        words = para.split()\n",
    "        if word_count + len(words) > max_words:\n",
    "            pages.append(' '.join(current_page))\n",
    "            current_page = []\n",
    "            word_count = 0\n",
    "        current_page.append(para)\n",
    "        word_count += len(words)\n",
    "    \n",
    "    if current_page:\n",
    "        pages.append(' '.join(current_page))\n",
    "    return pages"
   ]
  },
  {
   "cell_type": "code",
   "execution_count": 61,
   "id": "e0950089",
   "metadata": {},
   "outputs": [],
   "source": [
    "def extract_docx(file):\n",
    "    path = os.path.join(os.getcwd(),f'Documents/{file}')\n",
    "    paragraphs = load_docx_text(path)\n",
    "    pages = chunk_into_pages(paragraphs)\n",
    "    return pages    "
   ]
  },
  {
   "cell_type": "code",
   "execution_count": 62,
   "id": "db779a0e",
   "metadata": {},
   "outputs": [],
   "source": [
    "def extract_pdf(file):\n",
    "    path = os.path.join(os.getcwd(),f'Documents/{file}')\n",
    "    doc = fitz.open(path)\n",
    "    pages = []\n",
    "    for page in doc:\n",
    "        text = page.get_text().strip()\n",
    "        if text:\n",
    "            pages.append(text)\n",
    "    \n",
    "    doc.close()\n",
    "    return pages"
   ]
  },
  {
   "cell_type": "code",
   "execution_count": 63,
   "id": "02f7e715",
   "metadata": {},
   "outputs": [],
   "source": [
    "def preprocessing():\n",
    "    all_pages = []\n",
    "    metadata = []\n",
    "    path = os.path.join(os.getcwd(),'Documents')\n",
    "    files = os.listdir(path)\n",
    "\n",
    "    for file in files:\n",
    "        if file.split('.')[-1] in ['docx']:\n",
    "            pages = extract_docx(file)\n",
    "            \n",
    "        elif file.split('.')[-1] in ['pdf']:\n",
    "            pages = extract_pdf(file)\n",
    "        else:\n",
    "            continue\n",
    "\n",
    "        for i, page in enumerate(pages):\n",
    "                all_pages.append(page)\n",
    "                metadata.append({\n",
    "                    \"document\": file,\n",
    "                    \"page_number\": i + 1,\n",
    "                    \"text\": page\n",
    "                })\n",
    "    return (all_pages,metadata)"
   ]
  },
  {
   "cell_type": "code",
   "execution_count": 64,
   "id": "566ee004",
   "metadata": {},
   "outputs": [],
   "source": [
    "all_pages, metadata = preprocessing()"
   ]
  },
  {
   "cell_type": "markdown",
   "id": "09e21b2e",
   "metadata": {},
   "source": [
    "# Data Indexer"
   ]
  },
  {
   "cell_type": "code",
   "execution_count": 65,
   "id": "43b1313a",
   "metadata": {},
   "outputs": [],
   "source": [
    "def vectorize_pages(pages,model):\n",
    "    embeddings = model.encode(pages, convert_to_numpy=True)\n",
    "    return embeddings"
   ]
  },
  {
   "cell_type": "code",
   "execution_count": 66,
   "id": "3dc44ae9",
   "metadata": {},
   "outputs": [],
   "source": [
    "def indexer_faiss():\n",
    "    embeddings = vectorize_pages(all_pages,model)\n",
    "    dim = embeddings.shape[1]\n",
    "    index = faiss.IndexFlatL2(dim)\n",
    "    index.add(embeddings)\n",
    "\n",
    "\n",
    "    # 1. First time: after indexing\n",
    "    faiss.write_index(index, \"vector_index.faiss\")\n",
    "    with open(\"metadata.json\", \"w\", encoding=\"utf-8\") as f:\n",
    "        json.dump(metadata, f)\n"
   ]
  },
  {
   "cell_type": "code",
   "execution_count": 67,
   "id": "f313e1a5",
   "metadata": {},
   "outputs": [],
   "source": [
    "indexer_faiss()"
   ]
  },
  {
   "cell_type": "code",
   "execution_count": 68,
   "id": "ef067b03",
   "metadata": {},
   "outputs": [],
   "source": [
    "def search_index(query, index, metadata_list, model, top_k=3):\n",
    "    query_vec = model.encode([query])\n",
    "    D, I = index.search(query_vec, top_k)\n",
    "    results = []\n",
    "    for idx in I[0]:\n",
    "        metadata = metadata_list[idx]\n",
    "        results.append({\n",
    "            \"document\": metadata[\"document\"],\n",
    "            \"page_number\": metadata[\"page_number\"],\n",
    "            \"text\": metadata[\"text\"][:500],  # preview\n",
    "            \"score\": D[0][list(I[0]).index(idx)]\n",
    "        })\n",
    "    return results"
   ]
  },
  {
   "cell_type": "code",
   "execution_count": 69,
   "id": "f940c7d3",
   "metadata": {},
   "outputs": [
    {
     "name": "stdout",
     "output_type": "stream",
     "text": [
      "Query : What is Arrears Management?\n",
      "\n",
      "📄 Document: SSAA Arrears Management Guide 2024 (2).pdf | Page: 1 | Score: 0.31\n",
      "📝 Content Preview:\n",
      "Arrears \n",
      "Management \n",
      "Guide\n",
      "2024...\n",
      "--------------------------------------------------------------------------------\n",
      "\n",
      "📄 Document: Arrears Management Guide_NZ.pdf | Page: 1 | Score: 0.42\n",
      "📝 Content Preview:\n",
      "Arrears \n",
      "Management \n",
      "Guide NZ\n",
      "2024...\n",
      "--------------------------------------------------------------------------------\n",
      "\n",
      "📄 Document: SSAA Arrears Management Guide 2024 (2).pdf | Page: 3 | Score: 0.52\n",
      "📝 Content Preview:\n",
      "Overview\n",
      "What is Arrears Management? \n",
      "Arrears are fees that have not been paid by their due date – that is, the fees become overdue.\n",
      "Arrears management is the process of handling overdue fees from customers. It involves \n",
      "identifying accounts that have fallen behind on their payments, initiating timely communications to \n",
      "remind customers of their obligations, and utilising strategies to recover outstanding amounts. \n",
      "This can include sending reminders, offering payment plans, applying late fees an...\n",
      "--------------------------------------------------------------------------------\n"
     ]
    }
   ],
   "source": [
    "\n",
    "# Loading Indexer and metadata\n",
    "index = faiss.read_index(\"vector_index.faiss\")\n",
    "with open(\"metadata.json\", \"r\") as f:\n",
    "    metadata_list = json.load(f)\n",
    "\n",
    "# Example query\n",
    "query = \"What is Arrears Management?\"\n",
    "results = search_index(query, index, metadata_list, model)\n",
    "\n",
    "print(f'Query : {query}')\n",
    "# Display results\n",
    "for res in results:\n",
    "    print(f\"\\n📄 Document: {res['document']} | Page: {res['page_number']} | Score: {res['score']:.2f}\")\n",
    "    print(f\"📝 Content Preview:\\n{res['text']}...\")\n",
    "    print('-' * 80)"
   ]
  },
  {
   "cell_type": "code",
   "execution_count": 70,
   "id": "c78bbb08",
   "metadata": {},
   "outputs": [],
   "source": [
    "import openai\n",
    "from dotenv import load_dotenv\n",
    "load_dotenv()\n",
    "# Set your OpenAI API key\n",
    "api_key = os.getenv(\"OPENAI_API_KEY\")\n",
    "\n",
    "client = openai.OpenAI(api_key=api_key)  # Replace with your actual key\n",
    "\n",
    "def get_answer_from_openai(query: str, content: str, model: str = \"gpt-3.5-turbo-0125\") -> str:\n",
    "    \"\"\"\n",
    "    Uses OpenAI's ChatCompletion API to answer a question based on the provided context.\n",
    "\n",
    "    Args:\n",
    "        query (str): The user's question.\n",
    "        content (str): The context/content from which the answer should be extracted.\n",
    "        model (str): OpenAI model to use (default is gpt-3.5-turbo-0125).\n",
    "\n",
    "    Returns:\n",
    "        str: The generated answer from OpenAI.\n",
    "    \"\"\"\n",
    "    try:\n",
    "        response = client.chat.completions.create(\n",
    "            model=model,\n",
    "            messages=[\n",
    "                {\"role\": \"system\", \"content\": \"You are a helpful assistant that answers questions based on the given context.\"},\n",
    "                {\"role\": \"user\", \"content\": f\"Context: {content}\\n\\nQuestion: {query}\"}\n",
    "            ],\n",
    "            temperature=0.2,\n",
    "            max_tokens=300\n",
    "        )\n",
    "        return response.choices[0].message.content.strip()\n",
    "\n",
    "    except Exception as e:\n",
    "        return f\"Error occurred: {e}\""
   ]
  },
  {
   "cell_type": "code",
   "execution_count": 71,
   "id": "b5e7a071",
   "metadata": {},
   "outputs": [
    {
     "name": "stdout",
     "output_type": "stream",
     "text": [
      "Query : deceased storer\n",
      "\n",
      "📄 Document: NZ-Customer-Storage-Agreement-Guidelines.v1.04-January-2023.pdf | Page: 47 | Score: 0.91\n",
      "📝 Content Preview:\n",
      "SSAA CUSTOMER STORAGE AGREEMENT GUIDELINES (CSA) \n",
      "© Self Storage Association of Australasia 2023 \n",
      "47 \n",
      "KJW - 449872/6 - 194743.3 \n",
      " \n",
      " \n",
      " \n",
      "19. \n",
      "DECEASED STORER \n",
      " \n",
      " \n",
      "When a Storer dies, a Facility is not able to ‘release’ goods to any person other than the person to \n",
      "whom probate is granted. A probate document is an official court issued document. It will include a \n",
      "court stamp. \n",
      " \n",
      "19.1 Storer dies without a will \n",
      "Where a person dies without a will it is called “intestate”. The next of kin will need ...\n",
      "--------------------------------------------------------------------------------\n",
      "\n",
      "📄 Document: Self Storage Legal Landscape - Australia_Ritika Sardar and Ethan Holden.pdf | Page: 12 | Score: 0.95\n",
      "📝 Content Preview:\n",
      "Access to a space by others – relatives/executor \n",
      "when storer deceased (illustration cont.)\n",
      "• On a storer’s death, the lock should not be opened \n",
      "except for the executor or administrator of a \n",
      "deceased’s estate. \n",
      "• A grant of probate proves a will’s validity and \n",
      "authorises the executor to administer an estate.\n",
      "• The executor should sign the lock break \n",
      "authorisation form....\n",
      "--------------------------------------------------------------------------------\n",
      "\n",
      "📄 Document: Self Storage Legal Landscape - Australia_Ritika Sardar and Ethan Holden.pdf | Page: 11 | Score: 1.03\n",
      "📝 Content Preview:\n",
      "Access to a space by others – relatives/executor \n",
      "when storer deceased (illustration)\n",
      "• Agreement signed by deceased’s daughter, who was \n",
      "also the ACP. Goods belonged to the deceased. \n",
      "• Daughter continued to make payments for a while \n",
      "after father’s passing, ceased payments. Facility was \n",
      "unable to contact daughter.\n",
      "• Deceased’s estate’s solicitor unaware of the unit, \n",
      "requested that the executor (son) be allowed to \n",
      "inspect the unit, pay outstanding amounts and \n",
      "remove contents.\n",
      "• Facility enq...\n",
      "--------------------------------------------------------------------------------\n",
      "Answer from OpenAI model :\n",
      "When a Storer passes away, the Facility can only release the stored goods to the person who has been granted probate. If the Storer dies without a will, known as dying intestate, the next of kin will need to provide proof of being the executor or administrator of the deceased's estate in order to access the storage space and its contents. The executor or administrator should sign a lock break authorization form to gain access to the unit.\n"
     ]
    }
   ],
   "source": [
    "# Example query\n",
    "query = \"deceased storer\"\n",
    "results = search_index(query, index, metadata_list, model)\n",
    "context=''\n",
    "for res in results:\n",
    "    context += res['text']\n",
    "\n",
    "print(f'Query : {query}')\n",
    "# Display results\n",
    "for res in results:\n",
    "    print(f\"\\n📄 Document: {res['document']} | Page: {res['page_number']} | Score: {res['score']:.2f}\")\n",
    "    print(f\"📝 Content Preview:\\n{res['text']}...\")\n",
    "    print('-' * 80)\n",
    "\n",
    "answer = get_answer_from_openai(query,context)\n",
    "print(f'Answer from OpenAI model :\\n{answer}')"
   ]
  }
 ],
 "metadata": {
  "kernelspec": {
   "display_name": "venv",
   "language": "python",
   "name": "python3"
  },
  "language_info": {
   "name": "python",
   "version": "3.11.7"
  }
 },
 "nbformat": 4,
 "nbformat_minor": 5
}
